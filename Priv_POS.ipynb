{
  "nbformat": 4,
  "nbformat_minor": 0,
  "metadata": {
    "colab": {
      "provenance": []
    },
    "kernelspec": {
      "display_name": "Python 3",
      "language": "python",
      "name": "python3"
    },
    "language_info": {
      "codemirror_mode": {
        "name": "ipython",
        "version": 3
      },
      "file_extension": ".py",
      "mimetype": "text/x-python",
      "name": "python",
      "nbconvert_exporter": "python",
      "pygments_lexer": "ipython3",
      "version": "3.8.10"
    }
  },
  "cells": [
    {
      "cell_type": "markdown",
      "metadata": {
        "id": "6aBXzMVPjFTe"
      },
      "source": [
        "Here I have written two funcitons Priv_POS_Laplace and Priv_POS_Gaus. Both implement the proof of stake mechanism described in our document however they add noise in different ways. The Laplace version uses Laplacian noise while the Gaus verison uses Gausian noise. The Gaussian version has the benifit that it is easier to analyze as the sum of independent Gaussian distributions is also a Gaussian distribution. This is not the case with Laplace distributions. The downside is that the Gaussian version has an aditional privacy parameter $\\delta$ which needs to be calibrated.\n",
        "\n",
        "Both mechanisms take in as input a numpy array of the current stakes of the agents. A numpy array of the change in stakes of the agents in that round (assuming that the same index applies to the same agent). A bound on how much stake can change in one transaction alpha. And a privacy paremeter epsilon < 0. The Gaussian version also takes in an additional privacy parameter $0 \\leq$ delta $\\leq 1$ which represents the probability of failure to protect privacy. Also note that the Gaussian Mechanism only works in the high privacy regime $0 \\leq \\epsilon \\leq 1$\n",
        "\n",
        "The output of both mechanisms will be a noisy stake that can then be used to elect the next leader. In order to use over multiple runs of POS do the first run with the \"true\" stake values and then use the noisy values from that run as inputs for other runs. Keep the privacy parameters the same across all runs."
      ]
    },
    {
      "cell_type": "code",
      "metadata": {
        "id": "2FZPkIC1jFTg"
      },
      "source": [
        "import numpy as np\n",
        "from collections import Counter\n",
        "import random\n",
        "import matplotlib.pyplot as plt\n",
        "from matplotlib.pyplot import figure"
      ],
      "execution_count": null,
      "outputs": []
    },
    {
      "cell_type": "code",
      "metadata": {
        "id": "SSSpKh_rjFTh"
      },
      "source": [
        "def Priv_POS_Laplace(stakes, change, alpha, epsilon):\n",
        "    noise = np.random.laplace(0, alpha/epsilon, change.size)\n",
        "    stakes = stakes + change + noise\n",
        "    return stakes\n",
        "\n",
        "def Priv_POS_Gaus(stakes, change, alpha, epsilon, delta):\n",
        "    sigma = np.sqrt(2 *(alpha**2) * np.log(1.25 / delta)) * 1 / epsilon\n",
        "    noise = np.random.normal(0, alpha/epsilon, change.size)\n",
        "    stakes = stakes + change + noise\n",
        "    return stakes"
      ],
      "execution_count": null,
      "outputs": []
    },
    {
      "cell_type": "code",
      "metadata": {
        "id": "x-5rKqssmk1D"
      },
      "source": [
        "def get_round_txns(rd, amount, num_participants):\n",
        "    res = np.array([0.]*num_participants)\n",
        "    res[rd % num_participants] = amount\n",
        "    res[(rd+1) % num_participants] = -amount\n",
        "    return res"
      ],
      "execution_count": null,
      "outputs": []
    },
    {
      "cell_type": "code",
      "metadata": {
        "id": "T5FTf4U3jA2M"
      },
      "source": [
        "def predictStake(leaders,num_epochs,epoch_size):\n",
        "  count = Counter(leaders)\n",
        "  pred_stake = []\n",
        "  for i in range(num_participants):\n",
        "    pred_stake.append(count[i]*100/(num_epochs*epoch_size))\n",
        "\n",
        "  return pred_stake"
      ],
      "execution_count": null,
      "outputs": []
    },
    {
      "cell_type": "code",
      "metadata": {
        "id": "zCpLec_HjFTh"
      },
      "source": [
        "#@title Laplace example\n",
        "stakes = np.array([1,2,3])\n",
        "change = np.array ([0.1,-0.1,0])\n",
        "round1 = Priv_POS_Laplace(stakes,change,0.1,1)\n",
        "round2 = Priv_POS_Laplace(round1,change,0.1,1)\n",
        "round3 = Priv_POS_Laplace(round2,change,0.1,1)\n",
        "print(round1)\n",
        "print(round2)\n",
        "print(round3)\n",
        "#note that you can still kind of tell that agent 2 is losing stake and agent 1 is gaining it but with less certainty"
      ],
      "execution_count": null,
      "outputs": []
    },
    {
      "cell_type": "code",
      "metadata": {
        "id": "XRhoe-PujFTi"
      },
      "source": [
        "#@title Gaussian example\n",
        "stakes = np.array([1,2,3])\n",
        "change = np.array ([0.1,-0.1,0])\n",
        "round1 = Priv_POS_Gaus(stakes,change,0.1,1,0.001)\n",
        "round2 = Priv_POS_Gaus(round1,change,0.1,1,0.001)\n",
        "round3 = Priv_POS_Gaus(round2,change,0.1,1,0.001)\n",
        "print(round1)\n",
        "print(round2)\n",
        "print(round3)\n",
        "#note that you can still kind of tell that agent 2 is losing stake and agent 1 is gaining it but with less certainty"
      ],
      "execution_count": null,
      "outputs": []
    },
    {
      "cell_type": "code",
      "metadata": {
        "colab": {
          "base_uri": "https://localhost:8080/"
        },
        "id": "f30FgPEQfbVv",
        "outputId": "675b7892-252e-407c-a158-0a6cbb37baab"
      },
      "source": [
        "#@title Leader election without noise\n",
        "#simulating leader election without noise\n",
        "num_participants = 5\n",
        "epoch_size = 1000\n",
        "num_epochs = 10000\n",
        "stakes = np.array([20,20,20,20,20])\n",
        "nodes = np.array([i for i in range(num_participants)])\n",
        "leader = []\n",
        "min_epoch_stake = []\n",
        "max_epoch_stake = []\n",
        "pred_stake_arr = []\n",
        "txns = np.zeros(shape=(epoch_size,num_participants))\n",
        "\n",
        "for i in range(num_epochs):\n",
        "    if(i%99 == 0 and i!=0):\n",
        "      pred_stake = predictStake(leader,i,epoch_size)\n",
        "      min_epoch_stake.append(min(pred_stake))\n",
        "      max_epoch_stake.append(max(pred_stake))\n",
        "      pred_stake_arr.append(pred_stake)\n",
        "      \n",
        "    for j in range(epoch_size):\n",
        "      txns[j] = get_round_txns(j,0.1,num_participants)\n",
        "      leader.append(random.choices(nodes, weights = stakes, k = 1)[0])\n",
        "\n",
        "    txn_sum = txns.sum(axis=0)\n",
        "    stakes = stakes + txn_sum\n",
        "\n",
        "print(predictStake(leader,num_epochs,epoch_size))\n",
        "print(stakes)"
      ],
      "execution_count": null,
      "outputs": [
        {
          "name": "stdout",
          "output_type": "stream",
          "text": [
            "[20.00407, 19.99971, 20.00104, 20.01424, 19.98094]\n",
            "[20. 20. 20. 20. 20.]\n"
          ]
        }
      ]
    },
    {
      "cell_type": "code",
      "metadata": {
        "colab": {
          "base_uri": "https://localhost:8080/",
          "height": 299
        },
        "id": "H-YKTgM68zVH",
        "outputId": "2788ff38-e0c8-44e6-fcf7-1438324a385d"
      },
      "source": [
        "#@title Error bar graph 1\n",
        "pred_stake_arr = np.array(pred_stake_arr[:100])\n",
        "# print(pred_stake_arr)\n",
        "\n",
        "# make data:\n",
        "np.random.seed(1)\n",
        "x = [i for i in range(num_participants)]\n",
        "y = stakes\n",
        "yerr1 = np.amin(pred_stake_arr, axis=0)\n",
        "for i in range(len(yerr1)):\n",
        "  yerr1[i] = abs(stakes[i] - yerr1[i])\n",
        "yerr2 = np.amax(pred_stake_arr, axis=0)\n",
        "for i in range(len(yerr2)):\n",
        "  yerr2[i] = abs(stakes[i] - yerr2[i])\n",
        "print(yerr1)\n",
        "print(yerr2)\n",
        "# plot:\n",
        "fig, ax = plt.subplots()\n",
        "\n",
        "ax.errorbar(x, y, (yerr1, yerr2) , fmt='o', linewidth=2, capsize=6)\n",
        "\n",
        "# ax.set(xlim=(0, 8), xticks=np.arange(1, 8),\n",
        "#        ylim=(0, 8), yticks=np.arange(1, 8))\n",
        "\n",
        "plt.show()"
      ],
      "execution_count": null,
      "outputs": [
        {
          "name": "stdout",
          "output_type": "stream",
          "text": [
            "[0.10353535 0.04747475 0.14242424 0.0081853  0.00858586]\n",
            "[0.07272727 0.0270202  0.02178932 0.1010101  0.07121212]\n"
          ]
        },
        {
          "data": {
            "image/png": "[encoded data removed]",
            "text/plain": [
              "<Figure size 432x288 with 1 Axes>"
            ]
          },
          "metadata": {},
          "output_type": "display_data"
        }
      ]
    },
    {
      "cell_type": "code",
      "metadata": {
        "colab": {
          "base_uri": "https://localhost:8080/",
          "height": 513
        },
        "id": "SIc23K1yh0-a",
        "outputId": "efc538d5-62f0-4271-abf3-2b591125d9e5"
      },
      "source": [
        "#@title Change of stake graph 1\n",
        "# plt.style.use('_mpl-gallery')\n",
        "\n",
        "# make data\n",
        "np.random.seed(1)\n",
        "epochs = [(i+1)*100 for i in range(100)]\n",
        "x = epochs\n",
        "y1 = min_epoch_stake[:100]\n",
        "y2 = max_epoch_stake[:100]\n",
        "y = []\n",
        "for i in range(len(y1)):\n",
        "  y.append((y1[i]+y2[i])/2)\n",
        "\n",
        "# plot\n",
        "fig, ax = plt.subplots(figsize=(6, 6), dpi=100)\n",
        "\n",
        "ax.fill_between(x, y1, y2, alpha=.5, linewidth=0)\n",
        "ax.plot(x, y, linewidth=2)\n",
        "\n",
        "# ax.set(xlim=(0, 8), xticks=np.arange(1, 8),\n",
        "#        ylim=(0, 8), yticks=np.arange(1, 8))\n",
        "\n",
        "plt.show()"
      ],
      "execution_count": null,
      "outputs": [
        {
          "data": {
            "image/png": "[encoded data removed]",
            "text/plain": [
              "<Figure size 600x600 with 1 Axes>"
            ]
          },
          "metadata": {},
          "output_type": "display_data"
        }
      ]
    },
    {
      "cell_type": "code",
      "metadata": {
        "id": "QI6U2RPtQeG8"
      },
      "source": [
        "def leader_election_sim(num_participants, epoch_size, num_epochs, stakes, noisy_flag):\n",
        "\n",
        "  leader = []\n",
        "  min_epoch_stake = []\n",
        "  max_epoch_stake = []\n",
        "  pred_stake_arr = []\n",
        "  txns = np.zeros(shape=(epoch_size,num_participants))\n",
        "  nodes = np.array([i for i in range(num_participants)])\n",
        "  epoch = []\n",
        "\n",
        "  if(noisy_flag == true):\n",
        "    change = np.array([0]*num_participants)\n",
        "    noisy_txns = np.zeros(shape=(epoch_size,num_participants))\n",
        "    eps = 5\n",
        "    noisy_stake = Priv_POS_Laplace(stakes,change,0.1,eps)\n",
        "\n",
        "\n",
        "  for i in range(num_epochs):\n",
        "    if(noisy_flag == true):\n",
        "       noisy_round_stake = noisy_stake\n",
        "\n",
        "    if(i%99 == 0 and i!=0):\n",
        "      pred_stake = predictStake(leader,i,epoch_size)\n",
        "      min_epoch_stake.append(min(pred_stake))\n",
        "      max_epoch_stake.append(max(pred_stake))\n",
        "      pred_stake_arr.append(pred_stake)\n",
        "      epoch.append(i+1)\n",
        "      \n",
        "    for j in range(epoch_size):\n",
        "      txns[j] = get_round_txns(j,0.1,num_participants)\n",
        "\n",
        "      if(noisy_flag == true):\n",
        "        noisy_round_stake = Priv_POS_Laplace(noisy_round_stake, txns[j], 0.1, eps/2)\n",
        "        leader.append(random.choices(\n",
        "        nodes, \n",
        "        weights = noisy_round_stake, \n",
        "        k = 1)[0])\n",
        "      else:\n",
        "        leader.append(random.choices(nodes, weights = stakes, k = 1)[0])\n",
        "\n",
        "    txn_sum = txns.sum(axis=0)\n",
        "    stakes = stakes + txn_sum\n",
        "    if(noisy_flag == true):\n",
        "      noisy_txn_sum = Priv_POS_Laplace(txn_sum,change,0.1,eps/2)\n",
        "      noisy_stake = noisy_stake + noisy_txn_sum\n",
        "\n",
        "\n",
        "  if(noisy_flag == false):\n",
        "    noisy_stake = stakes\n",
        "\n",
        "  return pred_stake_arr, stakes, min_epoch_stake, max_epoch_stake, noisy_stake"
      ],
      "execution_count": null,
      "outputs": []
    },
    {
      "cell_type": "code",
      "metadata": {
        "colab": {
          "base_uri": "https://localhost:8080/"
        },
        "id": "kcz59hLKmsAk",
        "outputId": "d3737717-575c-4465-f934-48a150b6720b"
      },
      "source": [
        "#simulating leader election with noise\n",
        "num_participants = 5\n",
        "epoch_size = 1000\n",
        "num_epochs = 10000\n",
        "stakes = np.array([20,20,20,20,20])\n",
        "nodes = np.array([i for i in range(num_participants)])\n",
        "leader = []\n",
        "change = np.array([0]*num_participants)\n",
        "noisy_txns = np.zeros(shape=(epoch_size,num_participants))\n",
        "txns = np.zeros(shape=(epoch_size,num_participants))\n",
        "eps = 5\n",
        "noisy_stake = Priv_POS_Laplace(stakes,change,0.1,eps)\n",
        "min_epoch_stake = []\n",
        "max_epoch_stake = []\n",
        "epoch = []\n",
        "pred_stake_arr = []\n",
        "\n",
        "for i in range(num_epochs):\n",
        "  noisy_round_stake = noisy_stake\n",
        "  if(i%99 == 0 and i!=0):\n",
        "    pred_stake = predictStake(leader,i,epoch_size)\n",
        "    min_epoch_stake.append(min(pred_stake))\n",
        "    max_epoch_stake.append(max(pred_stake))\n",
        "    epoch.append(i+1)\n",
        "    pred_stake_arr.append(pred_stake)\n",
        "\n",
        "  for j in range(epoch_size):\n",
        "    txns[j] = get_round_txns(j,0.1,num_participants)\n",
        "    noisy_round_stake = Priv_POS_Laplace(noisy_round_stake, txns[j], 0.1, eps/2)\n",
        "    leader.append(random.choices(\n",
        "        nodes, \n",
        "        weights = noisy_round_stake, \n",
        "        k = 1)[0])\n",
        "\n",
        "  txn_sum = txns.sum(axis=0)\n",
        "  stakes = stakes + txn_sum\n",
        "  noisy_txn_sum = Priv_POS_Laplace(txn_sum,change,0.1,eps/2)\n",
        "  noisy_stake = noisy_stake + noisy_txn_sum\n",
        "\n",
        "\n",
        "print(predictStake(leader,num_epochs,epoch_size))\n",
        "print(noisy_stake)"
      ],
      "execution_count": null,
      "outputs": [
        {
          "name": "stdout",
          "output_type": "stream",
          "text": [
            "[16.84884, 20.06751, 17.50668, 21.66151, 23.91546]\n",
            "[14.55953163 15.92503087 17.95525273 19.81446429 23.7285792 ]\n"
          ]
        }
      ]
    },
    {
      "cell_type": "code",
      "metadata": {
        "id": "95k1oL30DwjC"
      },
      "source": [
        "pred_stake_arr = np.array(pred_stake_arr[:100])\n",
        "# print(pred_stake_arr)\n",
        "\n",
        "# make data:\n",
        "np.random.seed(1)\n",
        "x = [i for i in range(num_participants)]\n",
        "y = stakes\n",
        "yerr1 = np.amin(pred_stake_arr, axis=0)\n",
        "for i in range(len(yerr1)):\n",
        "  yerr1[i] = abs(stakes[i] - yerr1[i])\n",
        "yerr2 = np.amax(pred_stake_arr, axis=0)\n",
        "for i in range(len(yerr2)):\n",
        "  yerr2[i] = abs(stakes[i] - yerr2[i])\n",
        "print(yerr1)\n",
        "print(yerr2)\n",
        "# plot:\n",
        "fig, ax = plt.subplots(figsize=(6,6),dpi=100)\n",
        "\n",
        "ax.errorbar(x, y, (yerr1, yerr2) , fmt='o', linewidth=2, capsize=6)\n",
        "\n",
        "ax.set(xlim=(-0.5, 4.5), xticks=np.arange(0, 5, 1),\n",
        "       ylim=(0, 65), yticks=np.arange(0, 70, 10))\n",
        "\n",
        "ax.set_xlabel('Participants')\n",
        "ax.set_ylabel('Leader Election Frequency')\n",
        "ax.set_title('Leader Election Frequency for each Participant')\n",
        "\n",
        "plt.show()"
      ],
      "execution_count": null,
      "outputs": []
    },
    {
      "cell_type": "code",
      "metadata": {
        "colab": {
          "base_uri": "https://localhost:8080/",
          "height": 555
        },
        "id": "Swda6PJopnxJ",
        "outputId": "b5c30d08-0aed-4bad-a4bc-417feac77758"
      },
      "source": [
        "\n",
        "# make data\n",
        "np.random.seed(1)\n",
        "epochs = [(i+1)*100 for i in range(100)]\n",
        "x = epochs\n",
        "y1 = min_epoch_stake[:100]\n",
        "y2 = max_epoch_stake[:100]\n",
        "\n",
        "# plot\n",
        "# plt.figure(figsize=(8, 6), dpi=80)\n",
        "fig, ax = plt.subplots(figsize=(8, 6), dpi=100)\n",
        "\n",
        "ax.fill_between(x, y1, y2, alpha=.5, linewidth=0)\n",
        "ax.plot(x, y, linewidth=2)\n",
        "\n",
        "# set the limits\n",
        "ax.set_xlim(0, 10002)\n",
        "ax.set_ylim(15, 25)\n",
        "\n",
        "# set the grid on\n",
        "ax.grid('on')\n",
        "\n",
        "ax.set_xlabel('Number of Epochs')\n",
        "ax.set_ylabel('Leader Election Rate')\n",
        "ax.set_title('Leader Election Rate over Time')\n",
        "\n",
        "\n",
        "plt.show()\n"
      ],
      "execution_count": null,
      "outputs": [
        {
          "data": {
            "image/png": "[encoded data removed]",
            "text/plain": [
              "<Figure size 800x600 with 1 Axes>"
            ]
          },
          "metadata": {},
          "output_type": "display_data"
        }
      ]
    },
    {
      "cell_type": "code",
      "metadata": {
        "id": "UeYzbjoGmLYQ"
      },
      "source": [
        "'''\n",
        "Freq attack: [60.01075, 19.99094, 10.0071, 4.9901, 5.00111]\n",
        "Original Stake = [60. 20. 10.  5.  5.]\n",
        "'''\n",
        "freq = [60.01075, 19.99094, 10.0071, 4.9901, 5.00111]\n",
        "og_stake = [60, 20, 10,  5,  5,]\n",
        "x = [0,1,2,3,4]\n",
        "\n",
        "plt.xticks([0, 1, 2, 3, 4]) \n",
        "plt.plot(x,freq, label=\"Freq attack\")\n",
        "plt.plot(x,og_stake, label=\"Original Stake\")\n",
        "plt.legend()\n",
        "\n",
        "plt.show()"
      ],
      "execution_count": null,
      "outputs": []
    },
    {
      "cell_type": "code",
      "metadata": {
        "id": "Aa7QvjhFin0b"
      },
      "source": [
        "'''\n",
        "Original stake: [60,20,10,5,5]\n",
        "Freq attack: [61.4987, 15.87465, 12.32975, 6.98395, 3.31295]\n",
        "Noisy stake: [62.30671118 15.36621339 11.60095286  8.20649827 -0.0641173 ]\n",
        "'''\n",
        "\n",
        "freq = [61.4987, 15.87465, 12.32975, 6.98395, 3.31295]\n",
        "og_stake = [60, 20, 10,  5,  5,]\n",
        "x = [0,1,2,3,4]\n",
        "\n",
        "plt.xticks([0, 1, 2, 3, 4]) \n",
        "plt.plot(x,freq, label=\"Freq attack\")\n",
        "plt.plot(x,og_stake, label=\"Original Stake\")\n",
        "plt.legend()\n",
        "\n",
        "plt.show()"
      ],
      "execution_count": null,
      "outputs": []
    },
    {
      "cell_type": "code",
      "metadata": {
        "id": "lQju02aWSasX"
      },
      "source": [
        "#accidental majority\n"
      ],
      "execution_count": null,
      "outputs": []
    },
    {
      "cell_type": "code",
      "metadata": {
        "id": "Se1jtYV8oKQU"
      },
      "source": [
        "acc_maj_epoch_1 = acc_maj_epoch"
      ],
      "execution_count": null,
      "outputs": []
    },
    {
      "cell_type": "code",
      "metadata": {
        "colab": {
          "base_uri": "https://localhost:8080/"
        },
        "id": "NYORu9eBkVxq",
        "outputId": "3d739027-9d8c-4ac0-ec06-93e8f01cf27a"
      },
      "source": [
        "#simulating leader election with noise\n",
        "\n",
        "num_participants = 5\n",
        "epoch_size = 1000\n",
        "num_epochs = 10000\n",
        "stakes = np.array([45,44,5,5,1])\n",
        "true_stakes = np.array([45,44,5,5,1])\n",
        "# stakes = np.array([50,30,10,5,5])\n",
        "# true_stakes = np.array([50,30,10,5,5])\n",
        "nodes = np.array([i for i in range(num_participants)])\n",
        "leader = []\n",
        "change = np.array([0]*num_participants)\n",
        "noisy_txns = np.zeros(shape=(epoch_size,num_participants))\n",
        "txns = np.zeros(shape=(epoch_size,num_participants))\n",
        "eps = 5\n",
        "noisy_stake = Priv_POS_Laplace(stakes,change,0.1,eps)\n",
        "acc_maj = 0\n",
        "# acc_maj_epoch_1 = []\n",
        "acc_maj_epoch_2 = []\n",
        "\n",
        "for i in range(num_epochs):\n",
        "  noisy_round_stake = noisy_stake\n",
        "\n",
        "  for j in range(epoch_size):\n",
        "    txns[j] = get_round_txns(j,0.1,num_participants)\n",
        "    true_stakes = noisy_round_stake + txns[j]\n",
        "    noisy_round_stake = Priv_POS_Laplace(noisy_round_stake, txns[j], 0.1, eps/2)\n",
        "\n",
        "    leader.append(random.choices(\n",
        "        nodes, \n",
        "        weights = noisy_round_stake, \n",
        "        k = 1)[0])\n",
        "  \n",
        "    if(noisy_round_stake[1] > noisy_round_stake[0]):\n",
        "      if(true_stakes[1] < true_stakes[0]):\n",
        "        acc_maj += 1\n",
        "\n",
        "  txn_sum = txns.sum(axis=0)\n",
        "  stakes = stakes + txn_sum\n",
        "  noisy_txn_sum = Priv_POS_Laplace(txn_sum,change,0.1,eps/2)\n",
        "  noisy_stake = noisy_stake + noisy_txn_sum\n",
        "  acc_maj_epoch_2.append(acc_maj/((i+1)*epoch_size))\n",
        "\n",
        "\n",
        "# print(predictStake(leader,num_epochs,epoch_size))\n",
        "# print(leader)\n",
        "print('Prob of accidental majority: ', acc_maj/(num_epochs*epoch_size))"
      ],
      "execution_count": null,
      "outputs": [
        {
          "output_type": "stream",
          "name": "stdout",
          "text": [
            "Prob of accidental majority:  0.0006328\n"
          ]
        }
      ]
    },
    {
      "cell_type": "code",
      "metadata": {
        "colab": {
          "base_uri": "https://localhost:8080/",
          "height": 265
        },
        "id": "L24F28X0oWPQ",
        "outputId": "496700a7-6cb8-4d66-dc56-8704fdd9e61c"
      },
      "source": [
        "x = [i+1 for i in range(num_epochs)]\n",
        "y1 = acc_maj_epoch_1\n",
        "y2 = acc_maj_epoch_2\n",
        "\n",
        "plt.plot(x, y2, label=\"Stakes: [45,44,5,5,1]\")\n",
        "plt.plot(x,y1, label=\"Stakes: [50,30,10,5,5]\")\n",
        "\n",
        "plt.legend()\n",
        "\n",
        "plt.show()"
      ],
      "execution_count": null,
      "outputs": [
        {
          "output_type": "display_data",
          "data": {
            "image/png": "[encoded data removed]",
            "text/plain": [
              "<Figure size 432x288 with 1 Axes>"
            ]
          },
          "metadata": {
            "needs_background": "light"
          }
        }
      ]
    },
    {
      "cell_type": "code",
      "metadata": {
        "id": "Yk3GPo-LKmUx",
        "colab": {
          "base_uri": "https://localhost:8080/",
          "height": 265
        },
        "outputId": "7ea6665f-d85f-4e18-e6ed-358f50ac34ef"
      },
      "source": [
        "x = [i+1 for i in range(num_epochs)]\n",
        "y1 = acc_maj_epoch_1\n",
        "y2 = acc_maj_epoch_2\n",
        "\n",
        "plt.plot(x, y2, label=\"Stakes: [45,44,5,5,1]\")\n",
        "plt.legend()\n",
        "\n",
        "plt.show()"
      ],
      "execution_count": null,
      "outputs": [
        {
          "output_type": "display_data",
          "data": {
            "image/png": "[encoded data removed]",
            "text/plain": [
              "<Figure size 432x288 with 1 Axes>"
            ]
          },
          "metadata": {
            "needs_background": "light"
          }
        }
      ]
    },
    {
      "cell_type": "code",
      "metadata": {
        "id": "IzLcysmMKqsE",
        "colab": {
          "base_uri": "https://localhost:8080/",
          "height": 276
        },
        "outputId": "1648ecce-ac04-416f-8f33-af0b9809a260"
      },
      "source": [
        "x = [i+1 for i in range(num_epochs)]\n",
        "y1 = acc_maj_epoch_1\n",
        "y2 = acc_maj_epoch_2\n",
        "\n",
        "plt.plot(x,y1, label=\"Stakes: [50,30,10,5,5]\")\n",
        "plt.legend()\n",
        "\n",
        "plt.show()"
      ],
      "execution_count": null,
      "outputs": [
        {
          "output_type": "display_data",
          "data": {
            "image/png": "[encoded data removed]",
            "text/plain": [
              "<Figure size 432x288 with 1 Axes>"
            ]
          },
          "metadata": {
            "needs_background": "light"
          }
        }
      ]
    },
    {
      "cell_type": "code",
      "metadata": {
        "id": "xqj7wXjeK4-D",
        "colab": {
          "base_uri": "https://localhost:8080/"
        },
        "outputId": "b9dc97f3-cfd9-4b2b-c8a9-0e829aa7058b"
      },
      "source": [
        "max(y1)"
      ],
      "execution_count": null,
      "outputs": [
        {
          "output_type": "execute_result",
          "data": {
            "text/plain": [
              "2.1155066638459911e-07"
            ]
          },
          "metadata": {},
          "execution_count": 21
        }
      ]
    },
    {
      "cell_type": "code",
      "metadata": {
        "id": "DcMqAixlLIHJ",
        "colab": {
          "base_uri": "https://localhost:8080/"
        },
        "outputId": "642b613c-e353-4006-ae7a-70b43fab9cd2"
      },
      "source": [
        "max(y2)"
      ],
      "execution_count": null,
      "outputs": [
        {
          "output_type": "execute_result",
          "data": {
            "text/plain": [
              "0.012"
            ]
          },
          "metadata": {},
          "execution_count": 22
        }
      ]
    },
    {
      "cell_type": "code",
      "metadata": {
        "id": "pWbt69bVLUJd",
        "colab": {
          "base_uri": "https://localhost:8080/"
        },
        "outputId": "8f829022-e4c2-42a2-df5f-4c19fd85f412"
      },
      "source": [
        "#Analysis of noisy stake of [45,44,5,5,1]:\n",
        "print(np.abs(noisy_stake))\n",
        "print(stakes)"
      ],
      "execution_count": null,
      "outputs": [
        {
          "output_type": "stream",
          "name": "stdout",
          "text": [
            "[5.36364345e+01 3.94675353e+01 4.97835251e-02 4.06877022e+00\n",
            " 1.11794174e+01]\n",
            "[45. 44.  5.  5.  1.]\n"
          ]
        }
      ]
    }
  ]
}